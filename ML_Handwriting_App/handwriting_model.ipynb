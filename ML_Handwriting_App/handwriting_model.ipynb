{
  "nbformat": 4,
  "nbformat_minor": 0,
  "metadata": {
    "colab": {
      "name": "handwriting_model.ipynb",
      "version": "0.3.2",
      "provenance": [],
      "collapsed_sections": [],
      "include_colab_link": true
    },
    "kernelspec": {
      "name": "python3",
      "display_name": "Python 3"
    }
  },
  "cells": [
    {
      "cell_type": "markdown",
      "metadata": {
        "id": "view-in-github",
        "colab_type": "text"
      },
      "source": [
        "<a href=\"https://colab.research.google.com/github/crepuscule1/projects/blob/master/handwriting_model.ipynb\" target=\"_parent\"><img src=\"https://colab.research.google.com/assets/colab-badge.svg\" alt=\"Open In Colab\"/></a>"
      ]
    },
    {
      "cell_type": "code",
      "metadata": {
        "id": "Txri0WOjqPa0",
        "colab_type": "code",
        "outputId": "a0e6eeba-90e5-4b71-fe4b-d474eaf7221f",
        "colab": {
          "base_uri": "https://localhost:8080/",
          "height": 34
        }
      },
      "source": [
        "import keras"
      ],
      "execution_count": 0,
      "outputs": [
        {
          "output_type": "stream",
          "text": [
            "Using TensorFlow backend.\n"
          ],
          "name": "stderr"
        }
      ]
    },
    {
      "cell_type": "code",
      "metadata": {
        "id": "nKHeEdzDqTWA",
        "colab_type": "code",
        "colab": {}
      },
      "source": [
        "from keras.datasets import mnist"
      ],
      "execution_count": 0,
      "outputs": []
    },
    {
      "cell_type": "markdown",
      "metadata": {
        "id": "SycuCsGJaoET",
        "colab_type": "text"
      },
      "source": [
        "** Sequential is one of two models can choose - It allows me to add layers"
      ]
    },
    {
      "cell_type": "code",
      "metadata": {
        "id": "aZ0SUVguaySt",
        "colab_type": "code",
        "colab": {}
      },
      "source": [
        "from keras.models import Sequential"
      ],
      "execution_count": 0,
      "outputs": []
    },
    {
      "cell_type": "markdown",
      "metadata": {
        "id": "F4tDlRo7a3hV",
        "colab_type": "text"
      },
      "source": [
        "** Conv2D allows me to layer to do convolution\n",
        "** Maxooling takes a 2x2 grid, takes the largest value closest to 1\n",
        "** Dens allows use of fully connected Neural Network"
      ]
    },
    {
      "cell_type": "code",
      "metadata": {
        "id": "oyt1G2d9a4V0",
        "colab_type": "code",
        "colab": {}
      },
      "source": [
        "from keras.layers import Conv2D, MaxPooling2D, Dense, Dropout, Flatten"
      ],
      "execution_count": 0,
      "outputs": []
    },
    {
      "cell_type": "code",
      "metadata": {
        "id": "rYI9zj_jqlMh",
        "colab_type": "code",
        "outputId": "11602d4b-19b8-4a9d-e1b6-6dafe742bc73",
        "colab": {
          "base_uri": "https://localhost:8080/",
          "height": 51
        }
      },
      "source": [
        "data = mnist.load_data()"
      ],
      "execution_count": 0,
      "outputs": [
        {
          "output_type": "stream",
          "text": [
            "Downloading data from https://s3.amazonaws.com/img-datasets/mnist.npz\n",
            "11493376/11490434 [==============================] - 1s 0us/step\n"
          ],
          "name": "stdout"
        }
      ]
    },
    {
      "cell_type": "code",
      "metadata": {
        "id": "y-9PullnRTVA",
        "colab_type": "code",
        "colab": {}
      },
      "source": [
        "pixel_width = 28"
      ],
      "execution_count": 0,
      "outputs": []
    },
    {
      "cell_type": "code",
      "metadata": {
        "id": "Hh_q_czpRV8j",
        "colab_type": "code",
        "colab": {}
      },
      "source": [
        "pixel_height = 28"
      ],
      "execution_count": 0,
      "outputs": []
    },
    {
      "cell_type": "code",
      "metadata": {
        "id": "vZj8wyq3VEJl",
        "colab_type": "code",
        "colab": {}
      },
      "source": [
        "num_of_classes = 10"
      ],
      "execution_count": 0,
      "outputs": []
    },
    {
      "cell_type": "code",
      "metadata": {
        "id": "AsmIKkPCvGHN",
        "colab_type": "code",
        "colab": {}
      },
      "source": [
        "batch_size = 32"
      ],
      "execution_count": 0,
      "outputs": []
    },
    {
      "cell_type": "code",
      "metadata": {
        "id": "IZVlmSD6vIre",
        "colab_type": "code",
        "colab": {}
      },
      "source": [
        "epochs = 10"
      ],
      "execution_count": 0,
      "outputs": []
    },
    {
      "cell_type": "code",
      "metadata": {
        "id": "lDsmhME1N3Np",
        "colab_type": "code",
        "colab": {}
      },
      "source": [
        "(features_train, labels_train), (features_test, labels_test) = mnist.load_data()"
      ],
      "execution_count": 0,
      "outputs": []
    },
    {
      "cell_type": "markdown",
      "metadata": {
        "id": "fxrLW8PwQwRw",
        "colab_type": "text"
      },
      "source": [
        "**Missing buffer size for image therefore I am re-shaping the array.  \n",
        "**Grey scale has a pixel depth of 1"
      ]
    },
    {
      "cell_type": "code",
      "metadata": {
        "id": "CLOeYJDqO8oY",
        "colab_type": "code",
        "outputId": "36baff31-8edd-4eea-927d-866b807b6bbd",
        "colab": {
          "base_uri": "https://localhost:8080/",
          "height": 34
        }
      },
      "source": [
        "print(features_train.shape)"
      ],
      "execution_count": 0,
      "outputs": [
        {
          "output_type": "stream",
          "text": [
            "(60000, 28, 28)\n"
          ],
          "name": "stdout"
        }
      ]
    },
    {
      "cell_type": "code",
      "metadata": {
        "id": "sBDaWecAQca9",
        "colab_type": "code",
        "colab": {}
      },
      "source": [
        "features_train = features_train.reshape(features_train.shape[0], pixel_width, pixel_height, 1)"
      ],
      "execution_count": 0,
      "outputs": []
    },
    {
      "cell_type": "code",
      "metadata": {
        "id": "_uSYoR9QQsGL",
        "colab_type": "code",
        "outputId": "dc52bb2d-c599-46da-ef80-f4910aec8745",
        "colab": {
          "base_uri": "https://localhost:8080/",
          "height": 34
        }
      },
      "source": [
        "print(features_train.shape)"
      ],
      "execution_count": 0,
      "outputs": [
        {
          "output_type": "stream",
          "text": [
            "(60000, 28, 28, 1)\n"
          ],
          "name": "stdout"
        }
      ]
    },
    {
      "cell_type": "code",
      "metadata": {
        "id": "-d_zmmheRo2I",
        "colab_type": "code",
        "colab": {}
      },
      "source": [
        "features_test = features_test.reshape(features_test.shape[0], pixel_width, pixel_height, 1)"
      ],
      "execution_count": 0,
      "outputs": []
    },
    {
      "cell_type": "markdown",
      "metadata": {
        "id": "Cl9RsMtDSHkR",
        "colab_type": "text"
      },
      "source": [
        "** This is the format I want every image to come in as**"
      ]
    },
    {
      "cell_type": "code",
      "metadata": {
        "id": "0kty7F2eSBNy",
        "colab_type": "code",
        "colab": {}
      },
      "source": [
        "input_shape = (pixel_width, pixel_height, 1)"
      ],
      "execution_count": 0,
      "outputs": []
    },
    {
      "cell_type": "markdown",
      "metadata": {
        "id": "soYxXNCeSgg2",
        "colab_type": "text"
      },
      "source": [
        "**Convert arrays to floats (requirement of CNN)"
      ]
    },
    {
      "cell_type": "code",
      "metadata": {
        "id": "HxROvutXSxaQ",
        "colab_type": "code",
        "colab": {}
      },
      "source": [
        "features_train = features_train.astype('float32')"
      ],
      "execution_count": 0,
      "outputs": []
    },
    {
      "cell_type": "code",
      "metadata": {
        "id": "u307giBLS84b",
        "colab_type": "code",
        "colab": {}
      },
      "source": [
        "features_test = features_test.astype('float32')"
      ],
      "execution_count": 0,
      "outputs": []
    },
    {
      "cell_type": "markdown",
      "metadata": {
        "id": "Y3ANYOBVTYDp",
        "colab_type": "text"
      },
      "source": [
        "**Convert every item in the array to a percentage  /= set every value to /255"
      ]
    },
    {
      "cell_type": "code",
      "metadata": {
        "id": "s3oVCowdTssU",
        "colab_type": "code",
        "colab": {}
      },
      "source": [
        "features_train /=255"
      ],
      "execution_count": 0,
      "outputs": []
    },
    {
      "cell_type": "code",
      "metadata": {
        "id": "AHfmI3hpT1Mn",
        "colab_type": "code",
        "colab": {}
      },
      "source": [
        "features_test /=255"
      ],
      "execution_count": 0,
      "outputs": []
    },
    {
      "cell_type": "markdown",
      "metadata": {
        "id": "KXgfmyn2Vdxq",
        "colab_type": "text"
      },
      "source": [
        "**Preparing label data to match predictions\n",
        "**Flatten to create a binary class matirx and an array with 10 values"
      ]
    },
    {
      "cell_type": "code",
      "metadata": {
        "id": "WHtVov1SVIEK",
        "colab_type": "code",
        "colab": {}
      },
      "source": [
        "labels_train = keras.utils.to_categorical(labels_train, num_of_classes)"
      ],
      "execution_count": 0,
      "outputs": []
    },
    {
      "cell_type": "code",
      "metadata": {
        "id": "VM3iBmEdVXow",
        "colab_type": "code",
        "colab": {}
      },
      "source": [
        "labels_test = keras.utils.to_categorical(labels_test, num_of_classes)"
      ],
      "execution_count": 0,
      "outputs": []
    },
    {
      "cell_type": "markdown",
      "metadata": {
        "id": "Qwn7zT0rcU5M",
        "colab_type": "text"
      },
      "source": [
        "** Create an instance of Sequential"
      ]
    },
    {
      "cell_type": "code",
      "metadata": {
        "id": "1hv1kkO0cXlc",
        "colab_type": "code",
        "outputId": "e402206f-daa3-4aac-8ab8-930f97c9cc7b",
        "colab": {
          "base_uri": "https://localhost:8080/",
          "height": 88
        }
      },
      "source": [
        "model = Sequential()"
      ],
      "execution_count": 0,
      "outputs": [
        {
          "output_type": "stream",
          "text": [
            "WARNING: Logging before flag parsing goes to stderr.\n",
            "W0828 18:31:50.426228 140007580870528 deprecation_wrapper.py:119] From /usr/local/lib/python3.6/dist-packages/keras/backend/tensorflow_backend.py:74: The name tf.get_default_graph is deprecated. Please use tf.compat.v1.get_default_graph instead.\n",
            "\n"
          ],
          "name": "stderr"
        }
      ]
    },
    {
      "cell_type": "markdown",
      "metadata": {
        "id": "KIcjSSp4eIEC",
        "colab_type": "text"
      },
      "source": [
        "** 32 is the number of filter layers.  The kernal size is the size of the grid, the input shape is \n",
        "** how big the image is"
      ]
    },
    {
      "cell_type": "code",
      "metadata": {
        "id": "7gqFm_cXdPe1",
        "colab_type": "code",
        "outputId": "a2c6e646-171f-4ec6-abda-2aab75575e4f",
        "colab": {
          "base_uri": "https://localhost:8080/",
          "height": 105
        }
      },
      "source": [
        "model.add(Conv2D(32, kernel_size=(3,3), activation='relu', input_shape = input_shape))"
      ],
      "execution_count": 0,
      "outputs": [
        {
          "output_type": "stream",
          "text": [
            "W0828 18:31:50.477306 140007580870528 deprecation_wrapper.py:119] From /usr/local/lib/python3.6/dist-packages/keras/backend/tensorflow_backend.py:517: The name tf.placeholder is deprecated. Please use tf.compat.v1.placeholder instead.\n",
            "\n",
            "W0828 18:31:50.491525 140007580870528 deprecation_wrapper.py:119] From /usr/local/lib/python3.6/dist-packages/keras/backend/tensorflow_backend.py:4138: The name tf.random_uniform is deprecated. Please use tf.random.uniform instead.\n",
            "\n"
          ],
          "name": "stderr"
        }
      ]
    },
    {
      "cell_type": "code",
      "metadata": {
        "id": "MoTOI9kgeW3H",
        "colab_type": "code",
        "outputId": "e5279f91-78ed-4182-cacb-2d524d873eb4",
        "colab": {
          "base_uri": "https://localhost:8080/",
          "height": 71
        }
      },
      "source": [
        "model.add(MaxPooling2D(pool_size=(2,2)))"
      ],
      "execution_count": 0,
      "outputs": [
        {
          "output_type": "stream",
          "text": [
            "W0828 18:31:50.541854 140007580870528 deprecation_wrapper.py:119] From /usr/local/lib/python3.6/dist-packages/keras/backend/tensorflow_backend.py:3976: The name tf.nn.max_pool is deprecated. Please use tf.nn.max_pool2d instead.\n",
            "\n"
          ],
          "name": "stderr"
        }
      ]
    },
    {
      "cell_type": "markdown",
      "metadata": {
        "id": "4DmVabCZfeVI",
        "colab_type": "text"
      },
      "source": [
        "** Add dropout and rate to prevent overfitting\n",
        "** randomly selects 25% of the data and sets them to 0"
      ]
    },
    {
      "cell_type": "code",
      "metadata": {
        "id": "fUk001Z4fUFz",
        "colab_type": "code",
        "outputId": "275a2b98-ddbc-44d3-d3fb-188dbb0aeaec",
        "colab": {
          "base_uri": "https://localhost:8080/",
          "height": 122
        }
      },
      "source": [
        "model.add(Dropout(0.25))"
      ],
      "execution_count": 0,
      "outputs": [
        {
          "output_type": "stream",
          "text": [
            "W0828 18:31:50.554967 140007580870528 deprecation_wrapper.py:119] From /usr/local/lib/python3.6/dist-packages/keras/backend/tensorflow_backend.py:133: The name tf.placeholder_with_default is deprecated. Please use tf.compat.v1.placeholder_with_default instead.\n",
            "\n",
            "W0828 18:31:50.577911 140007580870528 deprecation.py:506] From /usr/local/lib/python3.6/dist-packages/keras/backend/tensorflow_backend.py:3445: calling dropout (from tensorflow.python.ops.nn_ops) with keep_prob is deprecated and will be removed in a future version.\n",
            "Instructions for updating:\n",
            "Please use `rate` instead of `keep_prob`. Rate should be set to `rate = 1 - keep_prob`.\n"
          ],
          "name": "stderr"
        }
      ]
    },
    {
      "cell_type": "code",
      "metadata": {
        "id": "fpJvZtnninnI",
        "colab_type": "code",
        "colab": {}
      },
      "source": [
        "model.add(Flatten())"
      ],
      "execution_count": 0,
      "outputs": []
    },
    {
      "cell_type": "markdown",
      "metadata": {
        "id": "XCy8IPv-p2Rt",
        "colab_type": "text"
      },
      "source": [
        "** Dense is another name for a fully connected layer"
      ]
    },
    {
      "cell_type": "code",
      "metadata": {
        "id": "5GlO7h2IjLVO",
        "colab_type": "code",
        "colab": {}
      },
      "source": [
        "model.add(Dense(128, activation='relu'))"
      ],
      "execution_count": 0,
      "outputs": []
    },
    {
      "cell_type": "markdown",
      "metadata": {
        "id": "C7fnguUBqHmN",
        "colab_type": "text"
      },
      "source": [
        "** Softmax will convert to 10 layers with values between 0-1"
      ]
    },
    {
      "cell_type": "code",
      "metadata": {
        "id": "335Bf4a0qP6I",
        "colab_type": "code",
        "colab": {}
      },
      "source": [
        "model.add(Dense(num_of_classes, activation = 'softmax'))"
      ],
      "execution_count": 0,
      "outputs": []
    },
    {
      "cell_type": "code",
      "metadata": {
        "id": "_p0iI6j9r5kN",
        "colab_type": "code",
        "outputId": "2bf99ba9-e392-4330-9314-152e0f153f2f",
        "colab": {
          "base_uri": "https://localhost:8080/",
          "height": 105
        }
      },
      "source": [
        "model.compile(loss=keras.losses.categorical_crossentropy,\n",
        "             optimizer=keras.optimizers.Adadelta(),\n",
        "             metrics=['accuracy'])"
      ],
      "execution_count": 0,
      "outputs": [
        {
          "output_type": "stream",
          "text": [
            "W0828 18:31:50.704520 140007580870528 deprecation_wrapper.py:119] From /usr/local/lib/python3.6/dist-packages/keras/optimizers.py:790: The name tf.train.Optimizer is deprecated. Please use tf.compat.v1.train.Optimizer instead.\n",
            "\n",
            "W0828 18:31:50.714571 140007580870528 deprecation_wrapper.py:119] From /usr/local/lib/python3.6/dist-packages/keras/backend/tensorflow_backend.py:3295: The name tf.log is deprecated. Please use tf.math.log instead.\n",
            "\n"
          ],
          "name": "stderr"
        }
      ]
    },
    {
      "cell_type": "code",
      "metadata": {
        "id": "vRhEhwN4uwrE",
        "colab_type": "code",
        "outputId": "716cc89a-2f23-48e6-f074-801c16efbc39",
        "colab": {
          "base_uri": "https://localhost:8080/",
          "height": 462
        }
      },
      "source": [
        "model.fit(features_train, labels_train,\n",
        "         batch_size=batch_size,\n",
        "         epochs=epochs,\n",
        "         verbose=1,\n",
        "         validation_data=(features_test, labels_test))"
      ],
      "execution_count": 0,
      "outputs": [
        {
          "output_type": "stream",
          "text": [
            "W0828 18:31:50.883264 140007580870528 deprecation.py:323] From /usr/local/lib/python3.6/dist-packages/tensorflow/python/ops/math_grad.py:1250: add_dispatch_support.<locals>.wrapper (from tensorflow.python.ops.array_ops) is deprecated and will be removed in a future version.\n",
            "Instructions for updating:\n",
            "Use tf.where in 2.0, which has the same broadcast rule as np.where\n"
          ],
          "name": "stderr"
        },
        {
          "output_type": "stream",
          "text": [
            "Train on 60000 samples, validate on 10000 samples\n",
            "Epoch 1/10\n",
            "60000/60000 [==============================] - 53s 887us/step - loss: 0.1711 - acc: 0.9470 - val_loss: 0.0633 - val_acc: 0.9799\n",
            "Epoch 2/10\n",
            "60000/60000 [==============================] - 52s 874us/step - loss: 0.0649 - acc: 0.9802 - val_loss: 0.0459 - val_acc: 0.9845\n",
            "Epoch 3/10\n",
            "60000/60000 [==============================] - 52s 870us/step - loss: 0.0482 - acc: 0.9847 - val_loss: 0.0444 - val_acc: 0.9845\n",
            "Epoch 4/10\n",
            "60000/60000 [==============================] - 52s 873us/step - loss: 0.0374 - acc: 0.9881 - val_loss: 0.0411 - val_acc: 0.9862\n",
            "Epoch 5/10\n",
            "60000/60000 [==============================] - 52s 872us/step - loss: 0.0303 - acc: 0.9913 - val_loss: 0.0403 - val_acc: 0.9864\n",
            "Epoch 6/10\n",
            "60000/60000 [==============================] - 52s 871us/step - loss: 0.0254 - acc: 0.9919 - val_loss: 0.0382 - val_acc: 0.9870\n",
            "Epoch 7/10\n",
            "60000/60000 [==============================] - 53s 876us/step - loss: 0.0213 - acc: 0.9931 - val_loss: 0.0338 - val_acc: 0.9887\n",
            "Epoch 8/10\n",
            "60000/60000 [==============================] - 52s 872us/step - loss: 0.0196 - acc: 0.9938 - val_loss: 0.0369 - val_acc: 0.9885\n",
            "Epoch 9/10\n",
            "60000/60000 [==============================] - 52s 874us/step - loss: 0.0159 - acc: 0.9950 - val_loss: 0.0375 - val_acc: 0.9883\n",
            "Epoch 10/10\n",
            "60000/60000 [==============================] - 52s 872us/step - loss: 0.0143 - acc: 0.9955 - val_loss: 0.0364 - val_acc: 0.9891\n"
          ],
          "name": "stdout"
        },
        {
          "output_type": "execute_result",
          "data": {
            "text/plain": [
              "<keras.callbacks.History at 0x7f55d3e6ca20>"
            ]
          },
          "metadata": {
            "tags": []
          },
          "execution_count": 31
        }
      ]
    },
    {
      "cell_type": "code",
      "metadata": {
        "id": "YUXXd2szvg9Q",
        "colab_type": "code",
        "colab": {}
      },
      "source": [
        "score = model.evaluate(features_test, labels_test, verbose=0)"
      ],
      "execution_count": 0,
      "outputs": []
    },
    {
      "cell_type": "code",
      "metadata": {
        "id": "jlW9OjAqevrv",
        "colab_type": "code",
        "colab": {}
      },
      "source": [
        "model.save('handwriting_model.h5')"
      ],
      "execution_count": 0,
      "outputs": []
    },
    {
      "cell_type": "code",
      "metadata": {
        "id": "6CXIATqDuP_Y",
        "colab_type": "code",
        "outputId": "ead839bb-087f-4085-fda6-9e2d2de28676",
        "colab": {
          "base_uri": "https://localhost:8080/",
          "height": 190
        }
      },
      "source": [
        "!pip install coremltools"
      ],
      "execution_count": 0,
      "outputs": [
        {
          "output_type": "stream",
          "text": [
            "Collecting coremltools\n",
            "\u001b[?25l  Downloading https://files.pythonhosted.org/packages/b9/9d/7ec5a2480c6afce4fcb99de1650b7abfd1457b2ef1de5ce39bf7bee8a8ae/coremltools-2.1.0-cp36-none-manylinux1_x86_64.whl (2.7MB)\n",
            "\u001b[K     |████████████████████████████████| 2.7MB 4.8MB/s \n",
            "\u001b[?25hRequirement already satisfied: six>=1.10.0 in /usr/local/lib/python3.6/dist-packages (from coremltools) (1.12.0)\n",
            "Requirement already satisfied: numpy>=1.10.0 in /usr/local/lib/python3.6/dist-packages (from coremltools) (1.16.4)\n",
            "Requirement already satisfied: protobuf>=3.1.0 in /usr/local/lib/python3.6/dist-packages (from coremltools) (3.7.1)\n",
            "Requirement already satisfied: setuptools in /usr/local/lib/python3.6/dist-packages (from protobuf>=3.1.0->coremltools) (41.2.0)\n",
            "Installing collected packages: coremltools\n",
            "Successfully installed coremltools-2.1.0\n"
          ],
          "name": "stdout"
        }
      ]
    },
    {
      "cell_type": "code",
      "metadata": {
        "id": "q_lXGoQleJ04",
        "colab_type": "code",
        "outputId": "f6e16413-a1da-4185-acfd-270aa1864464",
        "colab": {
          "base_uri": "https://localhost:8080/",
          "height": 54
        }
      },
      "source": [
        "import coremltools"
      ],
      "execution_count": 0,
      "outputs": [
        {
          "output_type": "stream",
          "text": [
            "W0828 18:40:42.502953 140007580870528 __init__.py:118] TensorFlow version 1.14.0 detected. Last version known to be fully compatible is 1.12.0 .\n"
          ],
          "name": "stderr"
        }
      ]
    },
    {
      "cell_type": "code",
      "metadata": {
        "id": "2Ay45FcyfB3A",
        "colab_type": "code",
        "colab": {}
      },
      "source": [
        "from keras.models import load_model "
      ],
      "execution_count": 0,
      "outputs": []
    },
    {
      "cell_type": "code",
      "metadata": {
        "id": "x2YavyhEewVF",
        "colab_type": "code",
        "colab": {}
      },
      "source": [
        "model = load_model('handwriting_model.h5')"
      ],
      "execution_count": 0,
      "outputs": []
    },
    {
      "cell_type": "markdown",
      "metadata": {
        "id": "cH7uH9oPufB0",
        "colab_type": "text"
      },
      "source": [
        "**labeling the data that is coming in as images**"
      ]
    },
    {
      "cell_type": "code",
      "metadata": {
        "id": "34LYjZw2UJ4w",
        "colab_type": "code",
        "outputId": "10aad354-96c3-4bc8-8a2e-37cb62da3938",
        "colab": {
          "base_uri": "https://localhost:8080/",
          "height": 170
        }
      },
      "source": [
        "coreml_model = coremltools.converters.keras.convert(model, input_names=['image'], image_input_names=['image'])"
      ],
      "execution_count": 0,
      "outputs": [
        {
          "output_type": "stream",
          "text": [
            "0 : conv2d_1_input, <keras.engine.input_layer.InputLayer object at 0x7f55bd448588>\n",
            "1 : conv2d_1, <keras.layers.convolutional.Conv2D object at 0x7f55bd448550>\n",
            "2 : conv2d_1__activation__, <keras.layers.core.Activation object at 0x7f55bd3d09e8>\n",
            "3 : max_pooling2d_1, <keras.layers.pooling.MaxPooling2D object at 0x7f55bd448710>\n",
            "4 : flatten_1, <keras.layers.core.Flatten object at 0x7f55bd4488d0>\n",
            "5 : dense_1, <keras.layers.core.Dense object at 0x7f55bd456da0>\n",
            "6 : dense_1__activation__, <keras.layers.core.Activation object at 0x7f55bd480be0>\n",
            "7 : dense_2, <keras.layers.core.Dense object at 0x7f55bd3b8278>\n",
            "8 : dense_2__activation__, <keras.layers.core.Activation object at 0x7f55bd477b00>\n"
          ],
          "name": "stdout"
        }
      ]
    },
    {
      "cell_type": "code",
      "metadata": {
        "id": "eg0_232mUrp1",
        "colab_type": "code",
        "colab": {}
      },
      "source": [
        "coreml_model.author = \"Devslopes, LLC.\""
      ],
      "execution_count": 0,
      "outputs": []
    },
    {
      "cell_type": "code",
      "metadata": {
        "id": "lNNGXwY7U0Ww",
        "colab_type": "code",
        "colab": {}
      },
      "source": [
        "coreml_model.license = \"MIT\""
      ],
      "execution_count": 0,
      "outputs": []
    },
    {
      "cell_type": "code",
      "metadata": {
        "id": "O5vqAyvPVFf9",
        "colab_type": "code",
        "colab": {}
      },
      "source": [
        "coreml_model.short_description = \"Predicts the handwritten character passed in as a number between 1-9.\""
      ],
      "execution_count": 0,
      "outputs": []
    },
    {
      "cell_type": "code",
      "metadata": {
        "id": "_aJbmk24Vh6q",
        "colab_type": "code",
        "colab": {}
      },
      "source": [
        "coreml_model.input_description['image']= \"A 28x28 pixel greyscale image.\""
      ],
      "execution_count": 0,
      "outputs": []
    },
    {
      "cell_type": "code",
      "metadata": {
        "id": "i40ux8F6WEao",
        "colab_type": "code",
        "colab": {}
      },
      "source": [
        "coreml_model.output_description['output1'] = \"A Multiarray where the index with the greatest float value (0-1) is the recognized digit.\""
      ],
      "execution_count": 0,
      "outputs": []
    },
    {
      "cell_type": "code",
      "metadata": {
        "id": "5koySqtqfuNB",
        "colab_type": "code",
        "colab": {}
      },
      "source": [
        "coreml_model.save('Handwriting.mlmodel')"
      ],
      "execution_count": 0,
      "outputs": []
    },
    {
      "cell_type": "code",
      "metadata": {
        "id": "w3MPWCol6DDB",
        "colab_type": "code",
        "outputId": "e40c0e49-e525-4065-ac4d-d6c2cf8611f0",
        "colab": {
          "base_uri": "https://localhost:8080/",
          "height": 459
        }
      },
      "source": [
        "coreml_model"
      ],
      "execution_count": 0,
      "outputs": [
        {
          "output_type": "execute_result",
          "data": {
            "text/plain": [
              "input {\n",
              "  name: \"image\"\n",
              "  shortDescription: \"A 28x28 pixel greyscale image.\"\n",
              "  type {\n",
              "    imageType {\n",
              "      width: 28\n",
              "      height: 28\n",
              "      colorSpace: GRAYSCALE\n",
              "    }\n",
              "  }\n",
              "}\n",
              "output {\n",
              "  name: \"output1\"\n",
              "  shortDescription: \"A Multiarray where the index with the greatest float value (0-1) is the recognized digit.\"\n",
              "  type {\n",
              "    multiArrayType {\n",
              "      shape: 10\n",
              "      dataType: DOUBLE\n",
              "    }\n",
              "  }\n",
              "}\n",
              "metadata {\n",
              "  shortDescription: \"Predicts the handwritten character passed in as a number between 1-9.\"\n",
              "  author: \"Devslopes, LLC.\"\n",
              "  license: \"MIT\"\n",
              "}"
            ]
          },
          "metadata": {
            "tags": []
          },
          "execution_count": 45
        }
      ]
    },
    {
      "cell_type": "code",
      "metadata": {
        "id": "zG64AWV73Mdx",
        "colab_type": "code",
        "colab": {}
      },
      "source": [
        "from google.colab import files"
      ],
      "execution_count": 0,
      "outputs": []
    },
    {
      "cell_type": "code",
      "metadata": {
        "id": "auaF1ZuhCRMH",
        "colab_type": "code",
        "colab": {}
      },
      "source": [
        "files.download('Handwriting.mlmodel')"
      ],
      "execution_count": 0,
      "outputs": []
    }
  ]
}